{
 "cells": [
  {
   "cell_type": "code",
   "execution_count": 158,
   "metadata": {
    "collapsed": true
   },
   "outputs": [],
   "source": [
    "import datetime\n",
    "import pandas as pd\n",
    "import numpy as np\n",
    "import os\n",
    "import sys\n",
    "from sklearn.feature_extraction.text import CountVectorizer\n",
    "from sklearn.feature_extraction.text import TfidfVectorizer\n",
    "from sklearn.naive_bayes import MultinomialNB\n",
    "\n",
    "loc = os.getcwd()\n",
    "sys.path.append(os.path.abspath('nytimesarticle-0.1.0'))\n",
    "\n",
    "from get_NYT import get_NYT\n",
    "'''\n",
    "#Put into a nice, clean JSON in the gitignore directory\n",
    "'''\n",
    "ACCESS_KEY='18397b8a5f249028c58514c15cfa93fa'\n",
    "\n",
    "from get_fx import get_fx\n",
    "url = 'http://apilayer.net/api/historical?'"
   ]
  },
  {
   "cell_type": "code",
   "execution_count": 323,
   "metadata": {
    "collapsed": false
   },
   "outputs": [],
   "source": [
    "if __name__ == '__main__':\n",
    "    \n",
    "    today = datetime.date.today()\n",
    "    today_dt = str(today.year)+str(today.month).zfill(2)+str(today.day).zfill(2)\n",
    "    brexit_dt = datetime.date(2016,6,22)\n",
    "    start = str(brexit_dt.year)+str(brexit_dt.month).zfill(2)+str(brexit_dt.day).zfill(2)\n",
    "    hist = today - brexit_dt\n",
    "\n",
    "    '''Load price change file\n",
    "    '''\n",
    "    df_chg = pd.read_csv('GBPUSD_CHNG.csv',header=None,names=['date','change'])\n",
    "    df_chg = df_chg.set_index(pd.DatetimeIndex(df_chg['date']))\n",
    "\n",
    "    '''Grab new FX prices and calculate changes\n",
    "    '''\n",
    "    max_dt = max(pd.to_datetime(df_chg['date']))\n",
    "    begin = max_dt.date() + datetime.timedelta(1)\n",
    "    if max_dt.date() < today:\n",
    "        fx_price_gap = get_fx(ACCESS_KEY, url, begin, today)\n",
    "        dt_index = pd.date_range(max_dt,periods=(pd.to_datetime(today)-max_dt).days+1,freq='D')[::-1][:-1]\n",
    "        dt_gap = [d.strftime('%m/%d/%y') for d in dt_index]\n",
    "        dt_gap = pd.DataFrame(dt_gap)\n",
    "        fx_prices_more = pd.DataFrame(fx_price_gap)\n",
    "        fx_px_delta = pd.concat([dt_gap,fx_prices_more], axis=1)\n",
    "        fx_px_delta.columns = ['date','price']\n",
    "        fx_price_hist = pd.read_csv('GBPUSD.csv',names=['date','price'],header=0)\n",
    "        fx_prices = pd.concat([fx_px_delta,fx_price_hist],axis=0)\n",
    "        fx_prices.to_csv('GBPUSD.csv',index=False)\n",
    "        fx_prices = pd.read_csv('GBPUSD.csv',names=['date','price'],header=0)\n",
    "\n",
    "        '''Calculate 1-day price change directions\n",
    "        '''\n",
    "        df_move = np.array(fx_prices.iloc[:-1,1]) - np.array(fx_prices.iloc[1:,1])\n",
    "        df_signal = np.sign(df_move)\n",
    "        df_chg = pd.Series(df_signal,index=fx_prices.iloc[:-1,0])\n",
    "        df_chg.to_csv('GBPUSD_CHNG.csv')"
   ]
  },
  {
   "cell_type": "code",
   "execution_count": 353,
   "metadata": {
    "collapsed": false
   },
   "outputs": [
    {
     "name": "stdout",
     "output_type": "stream",
     "text": [
      "5\n",
      "number of articles today: 3\n"
     ]
    },
    {
     "data": {
      "text/html": [
       "<div>\n",
       "<table border=\"1\" class=\"dataframe\">\n",
       "  <thead>\n",
       "    <tr style=\"text-align: right;\">\n",
       "      <th></th>\n",
       "      <th>content</th>\n",
       "    </tr>\n",
       "    <tr>\n",
       "      <th>date</th>\n",
       "      <th></th>\n",
       "    </tr>\n",
       "  </thead>\n",
       "  <tbody>\n",
       "    <tr>\n",
       "      <th>2016-11-29</th>\n",
       "      <td>LONDON     It   s official     or is it  The B...</td>\n",
       "    </tr>\n",
       "    <tr>\n",
       "      <th>2016-11-30</th>\n",
       "      <td>The  in    s center right presidential primary...</td>\n",
       "    </tr>\n",
       "    <tr>\n",
       "      <th>2016-12-02</th>\n",
       "      <td>LONDON     An election  here was supposed to b...</td>\n",
       "    </tr>\n",
       "    <tr>\n",
       "      <th>2016-12-02</th>\n",
       "      <td>TURIN  Italy        s prime minister  Matteo R...</td>\n",
       "    </tr>\n",
       "    <tr>\n",
       "      <th>2016-12-02</th>\n",
       "      <td>LONDON     In a surprise upset  a candidate of...</td>\n",
       "    </tr>\n",
       "  </tbody>\n",
       "</table>\n",
       "</div>"
      ],
      "text/plain": [
       "                                                      content\n",
       "date                                                         \n",
       "2016-11-29  LONDON     It   s official     or is it  The B...\n",
       "2016-11-30  The  in    s center right presidential primary...\n",
       "2016-12-02  LONDON     An election  here was supposed to b...\n",
       "2016-12-02  TURIN  Italy        s prime minister  Matteo R...\n",
       "2016-12-02  LONDON     In a surprise upset  a candidate of..."
      ]
     },
     "execution_count": 353,
     "metadata": {},
     "output_type": "execute_result"
    }
   ],
   "source": [
    "    '''Backfill NYT articles'''\n",
    "    df_NYT = pd.read_csv('NYTimes_20160623-20161128.csv',header=0,names=['dates','content'])\n",
    "    df_NYT.set_index('dates',inplace=True)\n",
    "    max_NYT_dt = max(pd.to_datetime(df_NYT.index))\n",
    "    if max_NYT_dt.date() < today:\n",
    "        begin_NYT = max_NYT_dt.date() + datetime.timedelta(1)\n",
    "        begin_dt = str(begin_NYT.year)+str(begin_NYT.month).zfill(2)+str(begin_NYT.day).zfill(2)\n",
    "        dts_NYT_fill, corpus_NYT_fill = get_NYT(begin_dt, today_dt)\n",
    "        datetimes = [pd.to_datetime(dt) for dt in dts_NYT_fill]\n",
    "        max_dt = max(datetimes)\n",
    "        curr_articles = sum(np.array(datetimes) == max_dt)\n",
    "        print \"number of articles today: {}\".format(curr_articles)\n",
    "    #dt_NYT_gap = [d.strftime('%m/%d/%y') for d in dts_NYT_fill]\n",
    "    dt_NYT_gap = pd.DataFrame(dts_NYT_fill)\n",
    "    df_NYT_corpus = pd.DataFrame(corpus_NYT_fill)\n",
    "    pd_NYT_fill = pd.concat([dt_NYT_gap,df_NYT_corpus], axis=1)\n",
    "    pd_NYT_fill.columns=['date','content']\n",
    "    pd_NYT_fill.set_index('date',inplace=True)\n",
    "    pd_NYT_fill"
   ]
  },
  {
   "cell_type": "code",
   "execution_count": 355,
   "metadata": {
    "collapsed": true
   },
   "outputs": [],
   "source": [
    "    #pd_NYT_fill.to_csv('NYTimes_20160623-20161202.csv',header='True')\n",
    "    df_NYT = pd.read_csv('NYTimes_20160623-20161202.csv',header=0,names=['dates','content'])\n",
    "    df_NYT.set_index('dates',inplace=True)\n",
    "    end = '20161130'\n",
    "    end_dt = datetime.date(int(end[:4]),int(end[4:6]),int(end[-2:]))"
   ]
  },
  {
   "cell_type": "code",
   "execution_count": 379,
   "metadata": {
    "collapsed": false
   },
   "outputs": [
    {
     "data": {
      "text/plain": [
       "content    The  in    s center right presidential primary...\n",
       "Name: 11/30/16, dtype: object"
      ]
     },
     "execution_count": 379,
     "metadata": {},
     "output_type": "execute_result"
    }
   ],
   "source": [
    "    ind_test = str(end_dt.month)+'/'+str(end_dt.day)+'/'+str(end_dt.year-2000)"
   ]
  },
  {
   "cell_type": "code",
   "execution_count": 425,
   "metadata": {
    "collapsed": false
   },
   "outputs": [],
   "source": [
    "    X_train = df_NYT.loc[:ind_test]['content']\n",
    "    X_train_mat = count_vec.fit_transform(X_train)"
   ]
  },
  {
   "cell_type": "code",
   "execution_count": 406,
   "metadata": {
    "collapsed": true
   },
   "outputs": [
    {
     "data": {
      "text/html": [
       "<div>\n",
       "<table border=\"1\" class=\"dataframe\">\n",
       "  <thead>\n",
       "    <tr style=\"text-align: right;\">\n",
       "      <th></th>\n",
       "      <th>PriceChg</th>\n",
       "    </tr>\n",
       "  </thead>\n",
       "  <tbody>\n",
       "    <tr>\n",
       "      <th>2016-06-23</th>\n",
       "      <td>1</td>\n",
       "    </tr>\n",
       "    <tr>\n",
       "      <th>2016-06-23</th>\n",
       "      <td>1</td>\n",
       "    </tr>\n",
       "    <tr>\n",
       "      <th>2016-06-23</th>\n",
       "      <td>1</td>\n",
       "    </tr>\n",
       "    <tr>\n",
       "      <th>2016-06-23</th>\n",
       "      <td>1</td>\n",
       "    </tr>\n",
       "    <tr>\n",
       "      <th>2016-06-23</th>\n",
       "      <td>1</td>\n",
       "    </tr>\n",
       "    <tr>\n",
       "      <th>2016-06-27</th>\n",
       "      <td>-1</td>\n",
       "    </tr>\n",
       "    <tr>\n",
       "      <th>2016-06-27</th>\n",
       "      <td>-1</td>\n",
       "    </tr>\n",
       "    <tr>\n",
       "      <th>2016-06-27</th>\n",
       "      <td>-1</td>\n",
       "    </tr>\n",
       "    <tr>\n",
       "      <th>2016-06-27</th>\n",
       "      <td>-1</td>\n",
       "    </tr>\n",
       "    <tr>\n",
       "      <th>2016-06-27</th>\n",
       "      <td>-1</td>\n",
       "    </tr>\n",
       "    <tr>\n",
       "      <th>2016-06-27</th>\n",
       "      <td>-1</td>\n",
       "    </tr>\n",
       "    <tr>\n",
       "      <th>2016-06-27</th>\n",
       "      <td>-1</td>\n",
       "    </tr>\n",
       "    <tr>\n",
       "      <th>2016-06-27</th>\n",
       "      <td>-1</td>\n",
       "    </tr>\n",
       "    <tr>\n",
       "      <th>2016-06-27</th>\n",
       "      <td>-1</td>\n",
       "    </tr>\n",
       "    <tr>\n",
       "      <th>2016-06-27</th>\n",
       "      <td>-1</td>\n",
       "    </tr>\n",
       "    <tr>\n",
       "      <th>2016-06-30</th>\n",
       "      <td>-1</td>\n",
       "    </tr>\n",
       "    <tr>\n",
       "      <th>2016-06-30</th>\n",
       "      <td>-1</td>\n",
       "    </tr>\n",
       "    <tr>\n",
       "      <th>2016-06-30</th>\n",
       "      <td>-1</td>\n",
       "    </tr>\n",
       "    <tr>\n",
       "      <th>2016-06-30</th>\n",
       "      <td>-1</td>\n",
       "    </tr>\n",
       "    <tr>\n",
       "      <th>2016-06-30</th>\n",
       "      <td>-1</td>\n",
       "    </tr>\n",
       "    <tr>\n",
       "      <th>2016-06-30</th>\n",
       "      <td>-1</td>\n",
       "    </tr>\n",
       "    <tr>\n",
       "      <th>2016-07-05</th>\n",
       "      <td>-1</td>\n",
       "    </tr>\n",
       "    <tr>\n",
       "      <th>2016-07-05</th>\n",
       "      <td>-1</td>\n",
       "    </tr>\n",
       "    <tr>\n",
       "      <th>2016-07-05</th>\n",
       "      <td>-1</td>\n",
       "    </tr>\n",
       "    <tr>\n",
       "      <th>2016-07-05</th>\n",
       "      <td>-1</td>\n",
       "    </tr>\n",
       "    <tr>\n",
       "      <th>2016-07-08</th>\n",
       "      <td>1</td>\n",
       "    </tr>\n",
       "    <tr>\n",
       "      <th>2016-07-08</th>\n",
       "      <td>1</td>\n",
       "    </tr>\n",
       "    <tr>\n",
       "      <th>2016-07-08</th>\n",
       "      <td>1</td>\n",
       "    </tr>\n",
       "    <tr>\n",
       "      <th>2016-07-08</th>\n",
       "      <td>1</td>\n",
       "    </tr>\n",
       "    <tr>\n",
       "      <th>2016-07-08</th>\n",
       "      <td>1</td>\n",
       "    </tr>\n",
       "    <tr>\n",
       "      <th>2016-07-08</th>\n",
       "      <td>1</td>\n",
       "    </tr>\n",
       "    <tr>\n",
       "      <th>2016-07-11</th>\n",
       "      <td>1</td>\n",
       "    </tr>\n",
       "    <tr>\n",
       "      <th>2016-07-14</th>\n",
       "      <td>1</td>\n",
       "    </tr>\n",
       "    <tr>\n",
       "      <th>2016-07-14</th>\n",
       "      <td>1</td>\n",
       "    </tr>\n",
       "    <tr>\n",
       "      <th>2016-07-17</th>\n",
       "      <td>1</td>\n",
       "    </tr>\n",
       "    <tr>\n",
       "      <th>2016-07-22</th>\n",
       "      <td>-1</td>\n",
       "    </tr>\n",
       "    <tr>\n",
       "      <th>2016-07-22</th>\n",
       "      <td>-1</td>\n",
       "    </tr>\n",
       "    <tr>\n",
       "      <th>2016-07-22</th>\n",
       "      <td>-1</td>\n",
       "    </tr>\n",
       "    <tr>\n",
       "      <th>2016-09-25</th>\n",
       "      <td>1</td>\n",
       "    </tr>\n",
       "    <tr>\n",
       "      <th>2016-11-04</th>\n",
       "      <td>1</td>\n",
       "    </tr>\n",
       "    <tr>\n",
       "      <th>2016-11-08</th>\n",
       "      <td>-1</td>\n",
       "    </tr>\n",
       "    <tr>\n",
       "      <th>2016-11-18</th>\n",
       "      <td>-1</td>\n",
       "    </tr>\n",
       "    <tr>\n",
       "      <th>2016-11-22</th>\n",
       "      <td>-1</td>\n",
       "    </tr>\n",
       "    <tr>\n",
       "      <th>2016-11-22</th>\n",
       "      <td>-1</td>\n",
       "    </tr>\n",
       "    <tr>\n",
       "      <th>2016-11-23</th>\n",
       "      <td>1</td>\n",
       "    </tr>\n",
       "    <tr>\n",
       "      <th>2016-11-28</th>\n",
       "      <td>-1</td>\n",
       "    </tr>\n",
       "    <tr>\n",
       "      <th>2016-11-29</th>\n",
       "      <td>-1</td>\n",
       "    </tr>\n",
       "    <tr>\n",
       "      <th>2016-11-30</th>\n",
       "      <td>1</td>\n",
       "    </tr>\n",
       "  </tbody>\n",
       "</table>\n",
       "</div>"
      ],
      "text/plain": [
       "            PriceChg\n",
       "2016-06-23         1\n",
       "2016-06-23         1\n",
       "2016-06-23         1\n",
       "2016-06-23         1\n",
       "2016-06-23         1\n",
       "2016-06-27        -1\n",
       "2016-06-27        -1\n",
       "2016-06-27        -1\n",
       "2016-06-27        -1\n",
       "2016-06-27        -1\n",
       "2016-06-27        -1\n",
       "2016-06-27        -1\n",
       "2016-06-27        -1\n",
       "2016-06-27        -1\n",
       "2016-06-27        -1\n",
       "2016-06-30        -1\n",
       "2016-06-30        -1\n",
       "2016-06-30        -1\n",
       "2016-06-30        -1\n",
       "2016-06-30        -1\n",
       "2016-06-30        -1\n",
       "2016-07-05        -1\n",
       "2016-07-05        -1\n",
       "2016-07-05        -1\n",
       "2016-07-05        -1\n",
       "2016-07-08         1\n",
       "2016-07-08         1\n",
       "2016-07-08         1\n",
       "2016-07-08         1\n",
       "2016-07-08         1\n",
       "2016-07-08         1\n",
       "2016-07-11         1\n",
       "2016-07-14         1\n",
       "2016-07-14         1\n",
       "2016-07-17         1\n",
       "2016-07-22        -1\n",
       "2016-07-22        -1\n",
       "2016-07-22        -1\n",
       "2016-09-25         1\n",
       "2016-11-04         1\n",
       "2016-11-08        -1\n",
       "2016-11-18        -1\n",
       "2016-11-22        -1\n",
       "2016-11-22        -1\n",
       "2016-11-23         1\n",
       "2016-11-28        -1\n",
       "2016-11-29        -1\n",
       "2016-11-30         1"
      ]
     },
     "execution_count": 406,
     "metadata": {},
     "output_type": "execute_result"
    }
   ],
   "source": [
    "    Y = []\n",
    "    for dt in X_train.index:\n",
    "        Y.append(df_chg.loc[dt])\n",
    "    df_px_article = pd.DataFrame(Y,index=pd.DatetimeIndex(X_train.index),columns=['PriceChg'])\n",
    "    df_px_article"
   ]
  },
  {
   "cell_type": "code",
   "execution_count": 417,
   "metadata": {
    "collapsed": true
   },
   "outputs": [],
   "source": [
    "    X_test = df_NYT.loc[ind_test]\n",
    "    X_train = X_train_mat[:-len(X_test)]\n",
    "    Y_train = Y[:-len(X_test)]"
   ]
  },
  {
   "cell_type": "code",
   "execution_count": 420,
   "metadata": {
    "collapsed": true
   },
   "outputs": [],
   "source": [
    "    X_test = [d for d in X_test]\n",
    "    X_test = count_vec.fit_transform(X_test)\n",
    "    Y_test = [df_chg[ind_test] for i in X_test]"
   ]
  },
  {
   "cell_type": "code",
   "execution_count": 418,
   "metadata": {
    "collapsed": false
   },
   "outputs": [
    {
     "name": "stdout",
     "output_type": "stream",
     "text": [
      "47\n",
      "(47, 6603)\n"
     ]
    }
   ],
   "source": [
    "print len(Y_train)\n",
    "print X_train.shape"
   ]
  },
  {
   "cell_type": "code",
   "execution_count": 423,
   "metadata": {
    "collapsed": false
   },
   "outputs": [
    {
     "name": "stdout",
     "output_type": "stream",
     "text": [
      "1\n",
      "(1, 444)\n"
     ]
    }
   ],
   "source": [
    "print len(Y_test)\n",
    "print X_test.shape"
   ]
  },
  {
   "cell_type": "code",
   "execution_count": 424,
   "metadata": {
    "collapsed": false
   },
   "outputs": [
    {
     "data": {
      "text/plain": [
       "<1x444 sparse matrix of type '<type 'numpy.int64'>'\n",
       "\twith 444 stored elements in Compressed Sparse Row format>"
      ]
     },
     "execution_count": 424,
     "metadata": {},
     "output_type": "execute_result"
    }
   ],
   "source": [
    "X_test"
   ]
  },
  {
   "cell_type": "code",
   "execution_count": 426,
   "metadata": {
    "collapsed": false
   },
   "outputs": [
    {
     "ename": "ValueError",
     "evalue": "could not convert string to float: The  in    s center right presidential primary is the latest sign that a tectonic shift is coming to the European order  toward accommodating  rather than countering  a resurgent  Since the end of Wor",
     "output_type": "error",
     "traceback": [
      "\u001b[0;31m---------------------------------------------------------------------------\u001b[0m",
      "\u001b[0;31mValueError\u001b[0m                                Traceback (most recent call last)",
      "\u001b[0;32m<ipython-input-426-bf6da963f950>\u001b[0m in \u001b[0;36m<module>\u001b[0;34m()\u001b[0m\n\u001b[1;32m      1\u001b[0m \u001b[0mclf\u001b[0m \u001b[0;34m=\u001b[0m \u001b[0mMultinomialNB\u001b[0m\u001b[0;34m(\u001b[0m\u001b[0malpha\u001b[0m\u001b[0;34m=\u001b[0m\u001b[0;36m1.0\u001b[0m\u001b[0;34m,\u001b[0m \u001b[0mfit_prior\u001b[0m\u001b[0;34m=\u001b[0m\u001b[0mTrue\u001b[0m\u001b[0;34m,\u001b[0m \u001b[0mclass_prior\u001b[0m\u001b[0;34m=\u001b[0m\u001b[0mNone\u001b[0m\u001b[0;34m)\u001b[0m\u001b[0;34m\u001b[0m\u001b[0m\n\u001b[0;32m----> 2\u001b[0;31m \u001b[0mclf\u001b[0m\u001b[0;34m.\u001b[0m\u001b[0mfit\u001b[0m\u001b[0;34m(\u001b[0m\u001b[0mX_train\u001b[0m\u001b[0;34m,\u001b[0m \u001b[0mY_train\u001b[0m\u001b[0;34m)\u001b[0m\u001b[0;34m\u001b[0m\u001b[0m\n\u001b[0m\u001b[1;32m      3\u001b[0m \u001b[0;32mprint\u001b[0m \u001b[0mclf\u001b[0m\u001b[0;34m.\u001b[0m\u001b[0mpredict\u001b[0m\u001b[0;34m(\u001b[0m\u001b[0mX_test\u001b[0m\u001b[0;34m)\u001b[0m\u001b[0;34m\u001b[0m\u001b[0m\n",
      "\u001b[0;32m/Users/catherinelee/anaconda/lib/python2.7/site-packages/sklearn/naive_bayes.pyc\u001b[0m in \u001b[0;36mfit\u001b[0;34m(self, X, y, sample_weight)\u001b[0m\n\u001b[1;32m    472\u001b[0m             \u001b[0mReturns\u001b[0m \u001b[0mself\u001b[0m\u001b[0;34m.\u001b[0m\u001b[0;34m\u001b[0m\u001b[0m\n\u001b[1;32m    473\u001b[0m         \"\"\"\n\u001b[0;32m--> 474\u001b[0;31m         \u001b[0mX\u001b[0m\u001b[0;34m,\u001b[0m \u001b[0my\u001b[0m \u001b[0;34m=\u001b[0m \u001b[0mcheck_X_y\u001b[0m\u001b[0;34m(\u001b[0m\u001b[0mX\u001b[0m\u001b[0;34m,\u001b[0m \u001b[0my\u001b[0m\u001b[0;34m,\u001b[0m \u001b[0;34m'csr'\u001b[0m\u001b[0;34m)\u001b[0m\u001b[0;34m\u001b[0m\u001b[0m\n\u001b[0m\u001b[1;32m    475\u001b[0m         \u001b[0m_\u001b[0m\u001b[0;34m,\u001b[0m \u001b[0mn_features\u001b[0m \u001b[0;34m=\u001b[0m \u001b[0mX\u001b[0m\u001b[0;34m.\u001b[0m\u001b[0mshape\u001b[0m\u001b[0;34m\u001b[0m\u001b[0m\n\u001b[1;32m    476\u001b[0m \u001b[0;34m\u001b[0m\u001b[0m\n",
      "\u001b[0;32m/Users/catherinelee/anaconda/lib/python2.7/site-packages/sklearn/utils/validation.pyc\u001b[0m in \u001b[0;36mcheck_X_y\u001b[0;34m(X, y, accept_sparse, dtype, order, copy, force_all_finite, ensure_2d, allow_nd, multi_output, ensure_min_samples, ensure_min_features, y_numeric)\u001b[0m\n\u001b[1;32m    442\u001b[0m     X = check_array(X, accept_sparse, dtype, order, copy, force_all_finite,\n\u001b[1;32m    443\u001b[0m                     \u001b[0mensure_2d\u001b[0m\u001b[0;34m,\u001b[0m \u001b[0mallow_nd\u001b[0m\u001b[0;34m,\u001b[0m \u001b[0mensure_min_samples\u001b[0m\u001b[0;34m,\u001b[0m\u001b[0;34m\u001b[0m\u001b[0m\n\u001b[0;32m--> 444\u001b[0;31m                     ensure_min_features)\n\u001b[0m\u001b[1;32m    445\u001b[0m     \u001b[0;32mif\u001b[0m \u001b[0mmulti_output\u001b[0m\u001b[0;34m:\u001b[0m\u001b[0;34m\u001b[0m\u001b[0m\n\u001b[1;32m    446\u001b[0m         y = check_array(y, 'csr', force_all_finite=True, ensure_2d=False,\n",
      "\u001b[0;32m/Users/catherinelee/anaconda/lib/python2.7/site-packages/sklearn/utils/validation.pyc\u001b[0m in \u001b[0;36mcheck_array\u001b[0;34m(array, accept_sparse, dtype, order, copy, force_all_finite, ensure_2d, allow_nd, ensure_min_samples, ensure_min_features)\u001b[0m\n\u001b[1;32m    342\u001b[0m             \u001b[0;32melse\u001b[0m\u001b[0;34m:\u001b[0m\u001b[0;34m\u001b[0m\u001b[0m\n\u001b[1;32m    343\u001b[0m                 \u001b[0mdtype\u001b[0m \u001b[0;34m=\u001b[0m \u001b[0mNone\u001b[0m\u001b[0;34m\u001b[0m\u001b[0m\n\u001b[0;32m--> 344\u001b[0;31m         \u001b[0marray\u001b[0m \u001b[0;34m=\u001b[0m \u001b[0mnp\u001b[0m\u001b[0;34m.\u001b[0m\u001b[0marray\u001b[0m\u001b[0;34m(\u001b[0m\u001b[0marray\u001b[0m\u001b[0;34m,\u001b[0m \u001b[0mdtype\u001b[0m\u001b[0;34m=\u001b[0m\u001b[0mdtype\u001b[0m\u001b[0;34m,\u001b[0m \u001b[0morder\u001b[0m\u001b[0;34m=\u001b[0m\u001b[0morder\u001b[0m\u001b[0;34m,\u001b[0m \u001b[0mcopy\u001b[0m\u001b[0;34m=\u001b[0m\u001b[0mcopy\u001b[0m\u001b[0;34m)\u001b[0m\u001b[0;34m\u001b[0m\u001b[0m\n\u001b[0m\u001b[1;32m    345\u001b[0m         \u001b[0;31m# make sure we actually converted to numeric:\u001b[0m\u001b[0;34m\u001b[0m\u001b[0;34m\u001b[0m\u001b[0m\n\u001b[1;32m    346\u001b[0m         \u001b[0;32mif\u001b[0m \u001b[0mdtype_numeric\u001b[0m \u001b[0;32mand\u001b[0m \u001b[0marray\u001b[0m\u001b[0;34m.\u001b[0m\u001b[0mdtype\u001b[0m\u001b[0;34m.\u001b[0m\u001b[0mkind\u001b[0m \u001b[0;34m==\u001b[0m \u001b[0;34m\"O\"\u001b[0m\u001b[0;34m:\u001b[0m\u001b[0;34m\u001b[0m\u001b[0m\n",
      "\u001b[0;31mValueError\u001b[0m: could not convert string to float: The  in    s center right presidential primary is the latest sign that a tectonic shift is coming to the European order  toward accommodating  rather than countering  a resurgent  Since the end of Wor"
     ]
    }
   ],
   "source": [
    "    clf = MultinomialNB(alpha=1.0, fit_prior=True, class_prior=None)\n",
    "    clf.fit(X_train, Y_train)\n",
    "    print clf.predict(X_test)"
   ]
  },
  {
   "cell_type": "code",
   "execution_count": 304,
   "metadata": {
    "collapsed": false
   },
   "outputs": [
    {
     "name": "stdout",
     "output_type": "stream",
     "text": [
      "1\n",
      "number of articles today: 1\n"
     ]
    }
   ],
   "source": [
    "        #df_chg.set_index('date',inplace=True)\n",
    "        #df_chg.set_index(pd.to_datetime(df_chg['date']),inplace=True)\n",
    "        start = '20161130'\n",
    "        end = '20161130'\n",
    "        end_dt = datetime.date(int(end[:4]),int(end[4:6]),int(end[-2:]))\n",
    "        '''\n",
    "        Get NYTimes articles\n",
    "        NEED TO FIX.\n",
    "        '''\n",
    "        dates, corpus = get_NYT(start, end)\n",
    "\n",
    "        datetimes = [pd.to_datetime(dt) for dt in dates]\n",
    "        max_dt = max(datetimes)\n",
    "        curr_articles = sum(np.array(datetimes) == max_dt)\n",
    "        print \"number of articles today: {}\".format(curr_articles)"
   ]
  },
  {
   "cell_type": "code",
   "execution_count": 177,
   "metadata": {
    "collapsed": true
   },
   "outputs": [],
   "source": [
    "pd_corpus_today = pd.DataFrame(corpus,index=dates)"
   ]
  },
  {
   "cell_type": "code",
   "execution_count": 143,
   "metadata": {
    "collapsed": false
   },
   "outputs": [],
   "source": [
    "NYT_dates = [d for d in df_NYT.index]"
   ]
  },
  {
   "cell_type": "code",
   "execution_count": 180,
   "metadata": {
    "collapsed": false
   },
   "outputs": [],
   "source": [
    "df_NYT_new = pd.concat([df_NYT,pd_corpus_today], axis=0)\n",
    "df_NYT_new\n",
    "df_NYT_new.to_csv('NYTimes_20160623-20161128.csv',header='True')"
   ]
  },
  {
   "cell_type": "code",
   "execution_count": 185,
   "metadata": {
    "collapsed": false
   },
   "outputs": [
    {
     "data": {
      "text/html": [
       "<div>\n",
       "<table border=\"1\" class=\"dataframe\">\n",
       "  <thead>\n",
       "    <tr style=\"text-align: right;\">\n",
       "      <th></th>\n",
       "      <th>dates</th>\n",
       "      <th>content</th>\n",
       "    </tr>\n",
       "  </thead>\n",
       "  <tbody>\n",
       "    <tr>\n",
       "      <th>41</th>\n",
       "      <td>11/18/16</td>\n",
       "      <td>PARIS     In the age of Donald J  Trump     Br...</td>\n",
       "    </tr>\n",
       "    <tr>\n",
       "      <th>42</th>\n",
       "      <td>11/22/16</td>\n",
       "      <td>LONDON     Once again  President elect  seems ...</td>\n",
       "    </tr>\n",
       "    <tr>\n",
       "      <th>43</th>\n",
       "      <td>11/22/16</td>\n",
       "      <td>LONDON     When President elect   in recent da...</td>\n",
       "    </tr>\n",
       "    <tr>\n",
       "      <th>44</th>\n",
       "      <td>11/23/16</td>\n",
       "      <td>LONDON     After years of tough spending curbs...</td>\n",
       "    </tr>\n",
       "    <tr>\n",
       "      <th>45</th>\n",
       "      <td>11/28/16</td>\n",
       "      <td>JERUSALEM     Within days of    s election to ...</td>\n",
       "    </tr>\n",
       "  </tbody>\n",
       "</table>\n",
       "</div>"
      ],
      "text/plain": [
       "       dates                                            content\n",
       "41  11/18/16  PARIS     In the age of Donald J  Trump     Br...\n",
       "42  11/22/16  LONDON     Once again  President elect  seems ...\n",
       "43  11/22/16  LONDON     When President elect   in recent da...\n",
       "44  11/23/16  LONDON     After years of tough spending curbs...\n",
       "45  11/28/16  JERUSALEM     Within days of    s election to ..."
      ]
     },
     "execution_count": 185,
     "metadata": {},
     "output_type": "execute_result"
    }
   ],
   "source": [
    "df_NYT_new = pd.read_csv('NYTimes_20160623-20161128.csv',header=0,names=['dates','content'])\n",
    "df_NYT_new.tail()"
   ]
  },
  {
   "cell_type": "code",
   "execution_count": 203,
   "metadata": {
    "collapsed": true
   },
   "outputs": [
    {
     "data": {
      "text/plain": [
       "0      6/23/16\n",
       "1      6/23/16\n",
       "2      6/23/16\n",
       "3      6/23/16\n",
       "4      6/23/16\n",
       "5      6/27/16\n",
       "6      6/27/16\n",
       "7      6/27/16\n",
       "8      6/27/16\n",
       "9      6/27/16\n",
       "10     6/27/16\n",
       "11     6/27/16\n",
       "12     6/27/16\n",
       "13     6/27/16\n",
       "14     6/27/16\n",
       "15     6/30/16\n",
       "16     6/30/16\n",
       "17     6/30/16\n",
       "18     6/30/16\n",
       "19     6/30/16\n",
       "20     6/30/16\n",
       "21      7/5/16\n",
       "22      7/5/16\n",
       "23      7/5/16\n",
       "24      7/5/16\n",
       "25      7/8/16\n",
       "26      7/8/16\n",
       "27      7/8/16\n",
       "28      7/8/16\n",
       "29      7/8/16\n",
       "30      7/8/16\n",
       "31     7/11/16\n",
       "32     7/14/16\n",
       "33     7/14/16\n",
       "34     7/17/16\n",
       "35     7/22/16\n",
       "36     7/22/16\n",
       "37     7/22/16\n",
       "38     9/25/16\n",
       "39     11/4/16\n",
       "40     11/8/16\n",
       "41    11/18/16\n",
       "42    11/22/16\n",
       "43    11/22/16\n",
       "44    11/23/16\n",
       "45    11/28/16\n",
       "Name: dates, dtype: object"
      ]
     },
     "execution_count": 203,
     "metadata": {},
     "output_type": "execute_result"
    }
   ],
   "source": [
    "dates = df_NYT_new['dates']\n",
    "dates"
   ]
  },
  {
   "cell_type": "code",
   "execution_count": 256,
   "metadata": {
    "collapsed": false
   },
   "outputs": [
    {
     "name": "stdout",
     "output_type": "stream",
     "text": [
      "1\n"
     ]
    }
   ],
   "source": [
    "new_dates, new_corpus = get_NYT('20161129', '20161129')"
   ]
  },
  {
   "cell_type": "code",
   "execution_count": 239,
   "metadata": {
    "collapsed": false
   },
   "outputs": [
    {
     "data": {
      "text/html": [
       "<div>\n",
       "<table border=\"1\" class=\"dataframe\">\n",
       "  <thead>\n",
       "    <tr style=\"text-align: right;\">\n",
       "      <th></th>\n",
       "      <th>price</th>\n",
       "    </tr>\n",
       "    <tr>\n",
       "      <th>date</th>\n",
       "      <th></th>\n",
       "    </tr>\n",
       "  </thead>\n",
       "  <tbody>\n",
       "    <tr>\n",
       "      <th>6/27/16</th>\n",
       "      <td>-1</td>\n",
       "    </tr>\n",
       "    <tr>\n",
       "      <th>6/26/16</th>\n",
       "      <td>-1</td>\n",
       "    </tr>\n",
       "    <tr>\n",
       "      <th>6/25/16</th>\n",
       "      <td>0</td>\n",
       "    </tr>\n",
       "    <tr>\n",
       "      <th>6/24/16</th>\n",
       "      <td>-1</td>\n",
       "    </tr>\n",
       "    <tr>\n",
       "      <th>6/23/16</th>\n",
       "      <td>1</td>\n",
       "    </tr>\n",
       "  </tbody>\n",
       "</table>\n",
       "</div>"
      ],
      "text/plain": [
       "         price\n",
       "date          \n",
       "6/27/16     -1\n",
       "6/26/16     -1\n",
       "6/25/16      0\n",
       "6/24/16     -1\n",
       "6/23/16      1"
      ]
     },
     "execution_count": 239,
     "metadata": {},
     "output_type": "execute_result"
    }
   ],
   "source": [
    "df_chg = pd.read_csv('GBPUSD_CHNGv2.csv',names=['date','price'],header=0)\n",
    "df_chg.set_index('date',inplace=True)\n",
    "df_chg.tail()"
   ]
  },
  {
   "cell_type": "code",
   "execution_count": 254,
   "metadata": {
    "collapsed": true
   },
   "outputs": [],
   "source": [
    "Y_train = Y"
   ]
  },
  {
   "cell_type": "code",
   "execution_count": 121,
   "metadata": {
    "collapsed": false
   },
   "outputs": [],
   "source": [
    "count_vec = CountVectorizer(min_df=1,stop_words='english',lowercase=True)\n",
    "tfidf_vec = TfidfVectorizer(sublinear_tf=True, max_df=0.5,stop_words='english')"
   ]
  },
  {
   "cell_type": "code",
   "execution_count": 257,
   "metadata": {
    "collapsed": false
   },
   "outputs": [],
   "source": [
    "X_test = new_corpus\n",
    "#corpus = df_NYT_new['content']"
   ]
  },
  {
   "cell_type": "code",
   "execution_count": 206,
   "metadata": {
    "collapsed": false
   },
   "outputs": [],
   "source": [
    "X_train = count_vec.fit_transform(corpus)"
   ]
  },
  {
   "cell_type": "code",
   "execution_count": 253,
   "metadata": {
    "collapsed": false
   },
   "outputs": [
    {
     "data": {
      "text/plain": [
       "(46, 6439)"
      ]
     },
     "execution_count": 253,
     "metadata": {},
     "output_type": "execute_result"
    }
   ],
   "source": [
    "X_train.shape"
   ]
  },
  {
   "cell_type": "code",
   "execution_count": 258,
   "metadata": {
    "collapsed": false
   },
   "outputs": [],
   "source": [
    "X_test = count_vec.transform(new_corpus)"
   ]
  },
  {
   "cell_type": "code",
   "execution_count": 211,
   "metadata": {
    "collapsed": false
   },
   "outputs": [],
   "source": [
    "Y_train, Y_test = Y, 1"
   ]
  },
  {
   "cell_type": "code",
   "execution_count": 212,
   "metadata": {
    "collapsed": false
   },
   "outputs": [
    {
     "data": {
      "text/plain": [
       "(46, 6439)"
      ]
     },
     "execution_count": 212,
     "metadata": {},
     "output_type": "execute_result"
    }
   ],
   "source": [
    "X_train.shape"
   ]
  },
  {
   "cell_type": "code",
   "execution_count": 259,
   "metadata": {
    "collapsed": false
   },
   "outputs": [
    {
     "name": "stdout",
     "output_type": "stream",
     "text": [
      "[-1]\n"
     ]
    }
   ],
   "source": [
    "clf = MultinomialNB(alpha=1.0, fit_prior=True, class_prior=None)\n",
    "clf.fit(X_train, Y_train)\n",
    "print clf.predict(X_test)"
   ]
  },
  {
   "cell_type": "code",
   "execution_count": 260,
   "metadata": {
    "collapsed": false
   },
   "outputs": [
    {
     "data": {
      "text/plain": [
       "1"
      ]
     },
     "execution_count": 260,
     "metadata": {},
     "output_type": "execute_result"
    }
   ],
   "source": [
    "Y_test"
   ]
  },
  {
   "cell_type": "code",
   "execution_count": 127,
   "metadata": {
    "collapsed": false
   },
   "outputs": [
    {
     "name": "stdout",
     "output_type": "stream",
     "text": [
      "1\n"
     ]
    }
   ],
   "source": [
    "dts, X_test = get_NYT('20161127', '20161128')"
   ]
  },
  {
   "cell_type": "code",
   "execution_count": 263,
   "metadata": {
    "collapsed": false
   },
   "outputs": [],
   "source": [
    "X_tfidf_train = tfidf_vec.fit_transform(corpus)\n",
    "X_tfidf_test = tfidf_vec.transform(new_corpus)"
   ]
  },
  {
   "cell_type": "code",
   "execution_count": 264,
   "metadata": {
    "collapsed": false
   },
   "outputs": [
    {
     "name": "stdout",
     "output_type": "stream",
     "text": [
      "[-1]\n"
     ]
    }
   ],
   "source": [
    "clf.fit(X_tfidf_train, Y_train)\n",
    "print clf.predict(X_tfidf_test)"
   ]
  }
 ],
 "metadata": {
  "kernelspec": {
   "display_name": "Python 2",
   "language": "python",
   "name": "python2"
  },
  "language_info": {
   "codemirror_mode": {
    "name": "ipython",
    "version": 2
   },
   "file_extension": ".py",
   "mimetype": "text/x-python",
   "name": "python",
   "nbconvert_exporter": "python",
   "pygments_lexer": "ipython2",
   "version": "2.7.11"
  }
 },
 "nbformat": 4,
 "nbformat_minor": 0
}
