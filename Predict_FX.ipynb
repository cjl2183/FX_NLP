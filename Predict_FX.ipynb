{
 "cells": [
  {
   "cell_type": "code",
   "execution_count": 1,
   "metadata": {
    "collapsed": true
   },
   "outputs": [],
   "source": [
    "import datetime\n",
    "import pandas as pd\n",
    "import numpy as np\n",
    "import os\n",
    "import sys\n",
    "from sklearn.feature_extraction.text import CountVectorizer\n",
    "from sklearn.feature_extraction.text import TfidfVectorizer\n",
    "from sklearn.naive_bayes import MultinomialNB\n",
    "\n",
    "loc = os.getcwd()\n",
    "sys.path.append(os.path.abspath('nytimesarticle-0.1.0'))\n",
    "\n",
    "from get_NYT import get_NYT\n",
    "'''\n",
    "#Put into a nice, clean JSON in the gitignore directory\n",
    "'''\n",
    "ACCESS_KEY='18397b8a5f249028c58514c15cfa93fa'\n",
    "\n",
    "from get_fx import get_fx\n",
    "url = 'http://apilayer.net/api/historical?'"
   ]
  },
  {
   "cell_type": "code",
   "execution_count": 2,
   "metadata": {
    "collapsed": false
   },
   "outputs": [
    {
     "name": "stdout",
     "output_type": "stream",
     "text": [
      "10\n",
      "number of articles today: 1\n"
     ]
    }
   ],
   "source": [
    "if __name__ == '__main__':\n",
    "\n",
    "\ttoday = datetime.date.today()\n",
    "\tend = str(today.year)+str(today.month).zfill(2)+str(today.day).zfill(2)\n",
    "\tbrexit_dt = datetime.date(2016,6,23)\n",
    "\tstart = str(brexit_dt.year)+str(brexit_dt.month).zfill(2)+str(brexit_dt.day).zfill(2)\n",
    "\thist = today - brexit_dt\n",
    "\n",
    "\t'''\n",
    "\tGet NYTimes articles\n",
    "\tTHIS ONLY RETURNS 10 ARTICLES IN ONE QUERY. NEED TO FIX.\n",
    "\t'''\n",
    "\tdates, corpus = get_NYT(start, end)\n",
    "\n",
    "\t'''Load price change file\n",
    "\t'''\n",
    "\tdf_chg = pd.read_csv('GBPUSD_CHNG.csv',header=None,names=['date','change'])\n",
    "\tdf_chg = df_chg.set_index(pd.DatetimeIndex(df_chg['date']))\n",
    "\n",
    "\t'''Grab new FX prices and calculate changes\n",
    "\t'''\n",
    "\tmax_dt = max(pd.to_datetime(df_chg['date']))\n",
    "\tstart_dt = max_dt.date() + datetime.timedelta(1)\n",
    "\tif max_dt.date() <> today:\n",
    "\t\tfx_price_gap = get_fx(ACCESS_KEY, url, start_dt, today)\n",
    "\t\tdt_index = pd.date_range(start_dt,periods=(today-start_dt).days+1,freq='D')[::-1]\n",
    "\t\t#pd_fx_prices = pd.Series(fx_prices_more,index=dt_index)\n",
    "\t\t#fx_prices_more = pd.DataFrame(fx_prices_gap,columns=['price'], index=dt_gap)\n",
    "\t\tdt_gap = [str(d.date()) for d in dt_index]\n",
    "\t\tdt_gap = pd.DataFrame(dt_gap)\n",
    "\t\tfx_prices_more = pd.DataFrame(fx_price_gap)\n",
    "\t\tfx_px_delta = pd.concat([dt_gap,fx_prices_more], axis=1)\n",
    "\t\tfx_px_delta.columns = ['date','price']\n",
    "\t\t#print fx_px_delta\n",
    "\t\tfx_price_hist = pd.read_csv('GBPUSD.csv',names=['date','price'],header=0)\n",
    "\t\t#print fx_price_hist\n",
    "\t\tfx_prices = pd.concat([fx_px_delta,fx_price_hist],axis=0)\n",
    "\t\t#print fx_prices\n",
    "\t\t#fx_px_delta.append(fx_prices,ignore_index=True)\n",
    "\t\tfx_prices.to_csv('GBPUSD.csv',index=False)\n",
    "\t\t'''\n",
    "\t\tfx_px_delta.set_index(['date'],inplace=True)\n",
    "\t\tfx_prices_delta.index = pd.to_datetime(fx_prices_delta.index)\n",
    "\t\tprint fx_prices\n",
    "\t\tfx_prices_total = fx_prices.append(pd_fx_prices)\n",
    "\t\tprint fx_prices_total\n",
    "\t\tfx_prices_total.to_csv('GBPUSD.csv',header=True,index=True)\n",
    "\t\t'''\n",
    "\t\t'''Calculate 1-day price change directions\n",
    "\t\t'''\n",
    "\t\tdf_move = np.array(fx_prices.iloc[:-1,1]) - np.array(fx_prices.iloc[1:,1])\n",
    "\t\tdf_signal = np.sign(df_move)\n",
    "\t\t#rng = pd.date_range(end=end, periods=hist.days+1, freq='D')\n",
    "\t\tdf_chg = pd.Series(df_signal,index=fx_prices.iloc[:-1,0])\n",
    "\t\tdf_chg.to_csv('GBPUSD_CHNGv2.csv')\n",
    "\n",
    "\n",
    "\t#df_chg.set_index('date',inplace=True)\n",
    "\t#df_chg.set_index(pd.to_datetime(df_chg['date']),inplace=True)\n",
    "\n",
    "\tdatetimes = [pd.to_datetime(dt) for dt in dates]\n",
    "\tmax_dt = max(datetimes)\n",
    "\tcurr_articles = sum(np.array(datetimes) == max_dt)\n",
    "\tprint \"number of articles today: {}\".format(curr_articles)\n"
   ]
  },
  {
   "cell_type": "code",
   "execution_count": 7,
   "metadata": {
    "collapsed": false
   },
   "outputs": [
    {
     "name": "stdout",
     "output_type": "stream",
     "text": [
      "            PriceChg\n",
      "2016-11-23         1\n",
      "2016-11-22        -1\n",
      "2016-11-22        -1\n",
      "2016-11-21         1\n",
      "2016-11-18        -1\n",
      "2016-11-17        -1\n",
      "2016-11-16        -1\n",
      "2016-11-15        -1\n",
      "2016-11-15        -1\n",
      "2016-11-14        -1\n"
     ]
    }
   ],
   "source": [
    "Y = []\n",
    "for dt in dates:\n",
    "\tY.append(df_chg.loc[dt.date()]['change'])\n",
    "df_px_article = pd.DataFrame(Y,index=pd.DatetimeIndex(dates),columns=['PriceChg'])\n",
    "print df_px_article"
   ]
  },
  {
   "cell_type": "code",
   "execution_count": 8,
   "metadata": {
    "collapsed": false
   },
   "outputs": [],
   "source": [
    "count_vec = CountVectorizer(min_df=1,stop_words='english',lowercase=True)\n",
    "tfidf_vec = TfidfVectorizer(sublinear_tf=True, max_df=0.5,stop_words='english',lowercase=True)"
   ]
  },
  {
   "cell_type": "code",
   "execution_count": 11,
   "metadata": {
    "collapsed": false
   },
   "outputs": [],
   "source": [
    "X_train = count_vec.fit_transform(corpus[curr_articles:])"
   ]
  },
  {
   "cell_type": "code",
   "execution_count": 13,
   "metadata": {
    "collapsed": false
   },
   "outputs": [],
   "source": [
    "X_test = count_vec.transform(corpus[:curr_articles])"
   ]
  },
  {
   "cell_type": "code",
   "execution_count": 25,
   "metadata": {
    "collapsed": false
   },
   "outputs": [],
   "source": [
    "Y_train, Y_test = Y[curr_articles:], Y[:curr_articles]"
   ]
  },
  {
   "cell_type": "code",
   "execution_count": 31,
   "metadata": {
    "collapsed": false
   },
   "outputs": [
    {
     "name": "stdout",
     "output_type": "stream",
     "text": [
      "[-1.]\n"
     ]
    }
   ],
   "source": [
    "clf = MultinomialNB(alpha=1.0, fit_prior=True, class_prior=None)\n",
    "clf.fit(X_train, Y_train)\n",
    "print clf.predict(X_test)"
   ]
  },
  {
   "cell_type": "code",
   "execution_count": 32,
   "metadata": {
    "collapsed": false
   },
   "outputs": [
    {
     "data": {
      "text/plain": [
       "[1.0]"
      ]
     },
     "execution_count": 32,
     "metadata": {},
     "output_type": "execute_result"
    }
   ],
   "source": [
    "Y_test"
   ]
  },
  {
   "cell_type": "code",
   "execution_count": 35,
   "metadata": {
    "collapsed": false
   },
   "outputs": [],
   "source": [
    "X_tfidf_train = tfidf_vec.fit_transform(corpus[curr_articles:])\n",
    "X_tfidf_test = tfidf_vec.transform(corpus[:curr_articles])"
   ]
  },
  {
   "cell_type": "code",
   "execution_count": 36,
   "metadata": {
    "collapsed": false
   },
   "outputs": [
    {
     "name": "stdout",
     "output_type": "stream",
     "text": [
      "[-1.]\n"
     ]
    }
   ],
   "source": [
    "clf.fit(X_tfidf_train, Y_train)\n",
    "print clf.predict(X_tfidf_test)"
   ]
  },
  {
   "cell_type": "code",
   "execution_count": null,
   "metadata": {
    "collapsed": true
   },
   "outputs": [],
   "source": []
  }
 ],
 "metadata": {
  "kernelspec": {
   "display_name": "Python 2",
   "language": "python",
   "name": "python2"
  },
  "language_info": {
   "codemirror_mode": {
    "name": "ipython",
    "version": 2
   },
   "file_extension": ".py",
   "mimetype": "text/x-python",
   "name": "python",
   "nbconvert_exporter": "python",
   "pygments_lexer": "ipython2",
   "version": "2.7.11"
  }
 },
 "nbformat": 4,
 "nbformat_minor": 0
}
