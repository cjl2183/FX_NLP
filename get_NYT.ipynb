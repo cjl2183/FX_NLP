{
 "cells": [
  {
   "cell_type": "code",
   "execution_count": 163,
   "metadata": {
    "collapsed": false
   },
   "outputs": [],
   "source": [
    "import sys, os\n",
    "sys.path.append(os.path.join(os.getcwd(), \"nytimesarticle-0.1.0\"))\n",
    "from lxml import html\n",
    "from lxml import etree\n",
    "from bs4 import BeautifulSoup\n",
    "import nytimesarticle\n",
    "import pandas as pd\n",
    "import requests\n",
    "import re\n",
    "import datetime\n",
    "import json"
   ]
  },
  {
   "cell_type": "code",
   "execution_count": 21,
   "metadata": {
    "collapsed": false
   },
   "outputs": [],
   "source": [
    "with open('nyt_keys.json') as keys:\n",
    "    nyt_creds = json.loads(keys)\n",
    "\n",
    "#api = nytimesarticle.search()\n",
    "api = nytimesarticle.articleAPI(nyt_creds['NYT_ARTICLE'])\n",
    "start_dt = pd.to_datetime('20161119').date()\n",
    "end_dt = pd.to_datetime('20161126').date()\n",
    "num_days = (end_dt - start_dt).days\n",
    "start_dt = str(start_dt.year)+str(start_dt.month).zfill(2)+str(start_dt.day).zfill(2)\n",
    "end_dt = str(end_dt.year)+str(end_dt.month).zfill(2)+str(end_dt.day).zfill(2)"
   ]
  },
  {
   "cell_type": "code",
   "execution_count": 108,
   "metadata": {
    "collapsed": false
   },
   "outputs": [
    {
     "name": "stdout",
     "output_type": "stream",
     "text": [
      "20161119\n",
      "20161126\n"
     ]
    }
   ],
   "source": [
    "print start_dt\n",
    "print end_dt"
   ]
  },
  {
   "cell_type": "code",
   "execution_count": 23,
   "metadata": {
    "collapsed": true
   },
   "outputs": [],
   "source": [
    "results = api.search(q = 'brexit', fq = {'source':['Reuters','AP', 'The New York Times'],\\\n",
    "                                          'news_desk':[\"Foreign\",\"Business\",\"Financial\",\"Market Place\",\"World\"],\n",
    "                                          'document_type':\"article\"}, begin_date = start_dt, end_date = end_dt, \\\n",
    "                      sort= \"newest\", \\\n",
    "                      fl = \"web_url,snippet,lead_paragraph,abstract,source,headline,keywords,pub_date,document_type,news_desk,type_of_material\", \\\n",
    "                      facet_field = \"source,section_name,document_type\")"
   ]
  },
  {
   "cell_type": "code",
   "execution_count": 90,
   "metadata": {
    "collapsed": true
   },
   "outputs": [
    {
     "name": "stdout",
     "output_type": "stream",
     "text": [
      "http://www.nytimes.com/2016/11/23/world/europe/uk-philip-hammond-autumn-statement-brexit.html\n",
      "2016-11-23T09:54:45+0000\n",
      "[u'LONDON     After years of tough spending curbs     s government on Wednesday cast aside the language of austerity as it acknowledged the high economic cost of withdrawal from the European Union  and tried to placate struggling working class families whose incomes have stagnated A pledge by the previous chancellor of the Exchequer  or finance minister  George Osborne  to balance the budget by 2020 has been shelved  The current chancellor  Philip Hammond  is replacing it with a vaguer ambition to do so as soon as practical after 2020 Help for workers whose low earnings are supplemented by welfare payments  an increase in the minimum wage and new infrastructure spending were features of the first Autumn Statement  or spending plan  from Mr  Hammond  who became chancellor in July Changes were centered on a section of society identified by Prime Minister Theresa May as those         also referred to as JAMs  who are thought to have voted in large numbers for British withdrawal from the European Union  or Brexit  in the June 23 referendum Mr  Hammond laid out plans to finance construction of 40 000 new affordable homes and to provide more help with child care  though there was also a less welcome increase in the tax on insurance premiums And there is a bigger catch  For the JAMs  as for others  the specter of Britain   s withdrawal from the European Union hovers over the economy  The uncertainties complicate life for Mr  Hammond and threaten to hit living standards just as they were beginning to improve for some While Brexit has not had the immediate negative effects some economists predicted  Mr  Hammond announced lower growth projections and higher borrowing estimates and inflation forecasts    Our task now is to prepare our economy to be resilient as we exit the E U      Mr  Hammond told lawmakers One of the cabinet   s steadiest  and most sober  performers  Mr  Hammond is nicknamed Spreadsheet Phil because of his reputation for approaching politics more as an accountant than a visionary He was moved from his post as foreign secretary to become chancellor shortly after the June referendum  He  like Mrs  May  had argued against Britain   s withdrawal That has made him a target of ideological opponents on the right of the governing Conservative Party  who want to speed British withdrawal  fearing that their goal of a swift  clean break with the European Union will be betrayed After Mr  Hammond warned in television interviews of a rocky outlook and an economy with an    eye wateringly large debt     supporters of the withdrawal  of negativity  On Wednesday  official forecasts suggested that he was correct and that the nation   s debt would rise to more than 90 percent of gross domestic product in 2017 18 from 84 2 percent last year Despite the positive economic signs so far  forecasts from the independent Office for Budget Responsibility underscored the high price Britain is likely to pay for Brexit over the next five years During that time  potential growth will be 2 4 percentage points lower than would have been the case  Mr  Hammond said  Over the five year forecasting period  around  75 billion of a total of  150 billion in additional borrowing can be attributed to Brexit Driven by the steep fall in the value of the pound  inflation is coming back     We expect the pound   s fall to add almost 2 percent to the level of consumer prices over the next two years     said the Office for Budget Responsibility  adding that    real earnings growth will consequently fall close to zero next year    It added that  over all     the government has opted neither for a large near term fiscal stimulus nor for more austerity over the medium term    Mrs  May plans to invoke withdrawal talks  which are scheduled to last two years    but uncertainty over the future trading environment seems to be chilling inward investment and reducing tax collection British businesses have been jittery since the referendum  and there was alarm at Mrs  May   s suggestions in October that she prioritized regaining control of immigration policy over maintaining unfettered access to the bloc   s single market  So Mrs  May   s comments suggested to many that she was aligning herself with those in favor of a clean break On Monday  Mrs  May sought to  fearing a sudden change in rules once Britain leaves the European Union  She also retreated on suggestions that businesses would be forced to place worker representatives on company boards Britain faces some longstanding economic difficulties  According to a research note from three economists at Bank of America Merrill Lynch  those include    woeful productivity performance  the already probably undeliverable austerity that is planned in day to day government spending and the large long term deterioration in the finances that will result if the government delivers on its plan to reduce migration to the tens of thousands    Over all  they added     Brexit means  eventually  higher taxes  lower government spending or permanently higher borrowing    While much of Mr  Hammond   s address had been telegraphed in previous days  he did throw one curveball  His first Autumn Statement  he said  would also be his last Starting next year  he will move Britain   s annual budget statement from the spring to the autumn  so that taxation changes can be announced well before the start of the tax year  in April  There will be an annual spring statement responding to economic forecasts  but no regular fiscal event  he said ', u'LONDON     Once again  President elect  seems to have gone out of his way to embarrass the British government After Election Day  he spoke with nine other leaders before taking a call from Prime Minister Theresa May and then told her casually     If you travel to the U S   you should let me know    In a Monday night   just as the British government was reaching out to Mr  Trump to reaffirm the    special relationship    with the United States that Britons prize  he suggested the appointment of Nigel Farage  the interim leader of    s populist  anti immigrant U K  Independence Party  as ambassador to the United States The prime minister   s office quickly dismissed the recommendation  telling reporters     There is no vacancy  We have an excellent ambassador to the U S     in   a former national security adviser Mr  Farage  a staunch backer of Britain   s withdrawal from the European Union and an outspoken supporter of Mr  Trump  is better known at home for his fiery speeches than for his diplomatic skills He appeared on the campaign trail with Mr  Trump and inspired the candidate to promise his supporters a    Brexit plus plus plus     referring to the June 23 referendum in Britain to leave the European Union Mr  Farage  whose party is a right wing rival and irritant to Mrs  May   s Conservative Party  has struck up a warm friendship with Mr  Trump  Mr  Farage  the president elect in Manhattan on Nov  12  four days after the election  A photo of the two men posing happily in front of a gold plated elevator went viral Still  few expected Mr  Trump to trample on the normal rules of diplomatic protocol by suggesting in public that the British government should make his political ally its envoy to the United States That is exactly what Mr  Trump did in   in which he said     Many people would like to see  Nigel_Farage represent  as their Ambassador to the United States  He would do a great job    Diplomats were quick to criticize Mr  Trump for overstepping diplomatic bounds    Now Trump tweets that he wants Nigel Farage as UK Ambassador to the US     Carl Bildt  a former prime minister and foreign minister of Sweden       Slightly original  to put it very mildly  No business of his    Mr  Farage himself described the comments from Mr  Trump as a    bolt from the blue     but added that    if I could help the U K  in any way I would    For Mrs  May  the intervention comes at a time when her government has been working to bolster its contacts with the transition team around the president elect Britain has long prized its special ties to the United States and its role as a trusted security and intelligence partner  it is more eager than ever to improve those connections With Britain committed to leaving the European Union  which has a single market of about 500 million people  the government hopes to strike new trade deals around the world and has high hopes of one with the United States On Monday  Mrs  May   s office confirmed that an invitation to Mr  Trump to pay a full state visit to Britain was under consideration Yet Mrs  May   s government has struggled to establish relations with the Trump transition team after some senior British political figures harshly criticized him during the campaign  For example  when Mr  Trump was pursuing the Republican nomination  Boris Johnson  then the mayor of London  accused Mr  Trump of being    out of his mind    and of possessing        that made him unfit for the presidency Mr  Johnson  now the foreign secretary  has changed his tune  telling a Czech newspaper that Mr  Trump is a    dealmaker  he is a guy who believes firmly in values that I believe in too     freedom and democracy  As far as I understand he is in many aspects a liberal guy from New York    In December 2015  Mrs  May  herself  criticized Mr  Trump   s call for a ban on Muslims entering the United States  saying it was    divisive  unhelpful and wrong    In Twitter posts before the presidential election  two of her close aides  who are now joint chiefs of staff    Fiona Hill described Mr  Trump as a    chump     while Nick Timothy greeted suggestions that Conservatives should reach out to him with the word    urgh    Mark Leonard  director of the European Council on Foreign Relations  a research institute  noted that Mr  Trump had criticized the German chancellor  Angela Merkel  during his election campaign and that    his relationship with Europe   s two most powerful women is complicated    He added that the British diplomatic service was well connected with its American counterpart  and therefore is part of the establishment that Mr  Trump and Mr  Farage have railed against     By blowing a raspberry at Theresa May  and at official British foreign policy advances  Mr  Trump can also sideline the American foreign policy establishment that was so hostile to his election     Mr  Leonard said In an  published on Tuesday on Breitbart News  the far right website once run by Stephen K  Bannon  who is now Mr  Trump   s chief strategist  Mr  Farage denounced the British government  saying its leaders had not yet absorbed the lessons of Brexit and the Trump victory    Those who supported Remain now hold senior positions     Mr  Farage said  referring to opponents of Brexit  including Mrs  May and Philip Hammond  the chancellor of the Exchequer     Worst still  those who were openly abusive about Trump now pretend to be his friend    It is career politics at its worst  and it is now getting in the way of the national interest    Gerry Gunster  the chief executive of Goddard Gunster  a Washington public affairs firm that advised the Leave campaign in the Brexit vote  encouraged the prime minister   s office to figure out how to make use of Mr  Farage  saying     Any kind of role for Nigel would be beneficial to the United Kingdom       It   s clear that he and Mr  Trump have a relationship that you would think  in some capacity  Downing Street would be able to use and put politics aside     said Mr  Gunster  an American who was among a small group of Brexit campaigners who accompanied Mr  Farage to his postelection meeting with Mr  Trump Appointing Mr  Farage to such a high profile and politically sensitive position would almost certainly be a step too far for the government  however  given his status in Britain When the idea of using Mr  Farage   s friendship with Mr  Trump as a diplomatic tool was suggested earlier this month  the first minister of Wales  Carwyn Jones  said it would be like    giving a child a chain saw    ', u'LONDON     When President elect   in recent days  he encouraged Mr  Farage and his entourage to oppose the kind of offshore  that Mr  Trump believes will mar the pristine view from one of his two Scottish golf courses  according to one person present The meeting  held shortly after the presidential election  raises new questions about Mr  Trump   s willingness to use the power of the presidency to advance his business interests  Mr  Trump has long opposed a wind farm planned near his course in Aberdeenshire  and he previously fought unsuccessfully all the way to Britain   s highest court to block it that met with Mr  Trump in New York was led by Mr   the head of the U K  Independence Party and a member of the European Parliament  Mr  Farage  who was a leading voice advocating Britain   s exit from the European Union  or Brexit   during the election  Arron Banks  an insurance executive who was a  of the Brexit campaign  was also in attendance    He did not say he hated wind farms as a concept  he just did not like them spoiling the views     said Andy Wigmore  the media consultant who was present at the meeting and was photographed with Mr  Trump Mr  Wigmore headed communications for   one of the two groups that led the Brexit effort  He said in an email that he and Mr  Banks would be    campaigning against wind farms in England  Scotland and Wales    Mr  Wigmore said that Mr  Banks had previously opposed wind farms and that they had been studying the issue on their own  However  he said  Mr  Trump  did suggest that we should campaign on it    and    spurred us in and we will be going for it    His account of the meeting was in The Express  a British paper Hope Hicks  a spokeswoman for Mr  Trump   s transition office  at first disputed that Mr  Trump had raised the subject of wind farms with Mr  Farage  suggesting that participants in the conversation    denied this took place     However  when pressed with the fact that one of the meeting   s attendees  Mr  Wigmore  had described the conversation in detail  she declined repeated requests to comment Amanda Miller  vice president for marketing at the Trump Organization  also declined through a spokeswoman to comment Mr  Farage   s office did not respond to requests for comment  Mr  Farage did sent out after the meeting  saying     It was a great honour to spend time with   He was relaxed and full of good ideas  I   m confident he will be a good president    Mr  Trump and his family   s blending of business and political interests and appearances have received increasing scrutiny during the transition  Since the election  he has met with  and his new Washington hotel has become a   His daughter Ivanka  an executive in the Trump Organization  sat in  with Prime Minister Shinzo Abe of Japan  and her jewelry company promoted a  10 800 bracelet she wore during a postelection appearance with her father on    60 Minutes    Separately  one of Argentina   s most influential television programs reported on Sunday that during a congratulations call from President Mauricio Macri of Argentina after the election  Mr  Trump asked for Mr  Macri   s support for a project to build an office tower in Buenos Aires A spokesman for Mr  Macri denied the report on Monday  saying the two spoke only about official matters    That issue was not part of the conversation between President Mauricio Macri and President elect Donald Trump     said the spokesman  Ivan Pavlovsky     The subject both leaders talked about was the institutional relationship  and they briefly mentioned the personal relationship they have had for years    The Japanese newspaper Asahi Shimbun  in an interview with Mr  Macri published on Monday  quoted him as saying that he had also spoken with Mr  Trump   s daughter Ivanka during the call  In the interview  Mr  Macri also described his longstanding relationship with the Trump family Trump representatives and a press representative from the Argentine Embassy both declined to comment on whether Ivanka Trump participated in the call with Mr  Macri Ethics experts in Washington said they were disturbed at the report of Mr  Trump   s apparent willingness to mix official duties as president elect with his business concerns  saying actions like these threaten to compromise the integrity of the office of the president    I thought he was going to separate his business matters from the process of governing     said  a partner at Skadden  Arps  Slate  Meagher   Flom  the international law firm  who advises corporations and elected officials on ethics laws    You don   t want to confuse the public good with the personal gain that can be accrued from leveraging the office of the president to pursue his business interest     Mr  Gross said      who served as the    ethics czar    in the Obama White House  appointed by the president to oversee rules related to conflicts of interest and lobbying     said that these kinds of allegations  even if they are just rumors  demonstrate why Mr  Trump must completely separate himself from involvement in his business enterprises Mr  Eisen said that it was    an extraordinary transgression of the core idea of public service    for Mr  Trump to speak with prominent Britons and a member of the European Parliament about his frustration with wind farms that harm views     at the same time as he has been involved in a fight over this exact issue Mr  Trump   s actions are undermining public confidence in the office of the president  he said  adding     I am profoundly troubled by it    In Scotland  Mr  Trump has a golf course on the west coast  Trump Turnberry  which he bought in 2014 and which has hosted four British Opens  and one on the east coast  Trump International Golf Links  that he built near Balmedie  a village in Aberdeenshire  Both resorts have  The Aberdeenshire course has been controversial since the Scottish government approved its development in 2008  turning aside  about the destruction of coastal sand dunes  A local pressure group called  is among the opponents of the resort Mr  Trump   s fight against an   consisting of 11 turbines  off the Aberdeenshire coast ended last December when Britain   s highest court unanimously  his attempt to block it  Mr  Trump had vowed to  on the golf course project if the wind farm went forward The skirmishing between Scottish officials and the Trump Organization became bitter  After the ruling  Alex Salmond  Scotland   s former first minister  called Trump a    three time loser        referring to his losses in various levels of the court system     while Mr  Trump called Mr  Salmond    a has been and totally irrelevant      Scotland  one of four regions of the United Kingdom  is led by Nicola Sturgeon  the current first minister     Scotland has vast potential to generate the power we need from renewable sources  in a way that helps the global fight against climate change     her office said in a statement  adding     We have clear planning policies in place to ensure wind farms are developed in appropriate locations    ', u'LONDON     A from a consultancy firm has highlighted cabinet divisions over    s withdrawal from the   while suggesting that the government may need six additional months to settle on a plan and to recruit tens of thousands of extra civil servants The document identified tensions between enthusiasts for British withdrawal  including the foreign secretary  Boris Johnson  and the international trade secretary  Liam Fox  and those fighting to preserve closer economic ties to the bloc  such as the chancellor  Philip Hammond  The enthusiasts believe Britain has to make a clean break with the European Union  while the more cautious types want to preserve Britain   s access to the European market by maintaining membership in the customs union or the single market  or perhaps some combination of the two As Prime Minister Theresa May   s self imposed deadline of March for starting negotiations on withdrawal with the European Union draws closer  this clash is emerging as the primary sticking point  But it is proving remarkably difficult to resolve Both the customs union and the single market eliminate tariffs between member states  The customs union sets tariffs with non European nations  so members share a common trade policy with the rest of the world  The single market removes non tariff trade barriers  too  for instance by maintaining common product standards  Unlike most free trade deals  the single market also covers some services  which are crucial for Britain  with its big financial sector For example  without Britain   s single market membership  banks based in London  including foreign owned ones  could not offer many services to clients in Continental nations Norway has considerable  but not unlimited  access to the single market without being part of the European Union  or its customs union  through membership in the European Economic Area  The downside is that Norway has no vote in making rules it must follow A maze of rules and regulations aimed at leveling the playing field and harmonizing product standards infuriates British euroskeptics and helped fuel the campaign to leave the European Union  known as Brexit More important  leaders of the European Union are adamant that all members of the single market adhere to   free movement of labor  capital  goods and services  Yet control of immigration was seen by many as the driving force behind the Brexit vote  So that chasm needs to be bridged  The question is how To secure full single market membership  Britain would most likely have to contribute to the European Union budget  accept the free movement of workers from the rest of the bloc  and accept rulings from the European Court of Justice or a similar body such as the European Free Trade Agreement  EFTA  court  That would be a tough sell to hardened supporters of Brexit in Mrs  May   s Conservative Party It might be  Not all members belong to the European Union  Turkey  for example  is not a European Union member but is in the customs union  Britain would be able to trade freely in goods within the union  which would free it of the burden and inefficiency of checking the origins of all the products coming to and from the bloc  But Britain would have to comply with some European Union regulations  Quitting the customs union could mean significant new tariffs  for example for British based automakers  Consequently  the chancellor  Philip Hammond  is reported to want to retain customs union membership As little as possible  Accused of lacking a strategy  it refuses to give a running commentary  saying that would weaken its negotiating position  But British officials had not prepared for Brexit before the referendum and are having to examine its impact on every sector of the economy     a huge exercise  In doing so  they appear to be uncovering more questions than answers In October  she stressed the importance of regaining control of immigration policy and of freeing Britain from the European Court of Justice     comments that suggested she was aligning herself with the proponents of a clean break  That set off a precipitous decline in the pound But she has since tread more cautiously  saying that Britain does not face a    binary    choice between maintaining a formal relationship with the European Union     either in the customs union or the single market  or some combination of the two     or a complete divorce  That implies that she wants some kind of hybrid settlement  This might mean leaving  then opting back into parts of Europe   s economic arrangements  for example those that help finance and the auto industry  while offering some budget contributions in exchange European nations are not so sure  To many it sounds like a variant of Mr  Johnson   s statement that  as far as the European Union is concerned  he is pro having his cake and pro eating it  Donald Tusk  president of the European Council  responded to that by inviting Mr  Johnson to undertake an experiment     Buy a cake  eat it  and see if it is still there on the plate    Britain   s decision to quit the European Union was fundamentally a political one  rather than economic  so it is logical to assume that politics will shape the negotiating position of its partners  too Many European nations will resist any agreement with Britain that undermines the bloc   s fundamental principles  particularly the movement of labor  or its basic economic structures  The fear is that this would prompt other countries to copy the British  which could be the beginning of the end of the entire postwar European drive to greater integration  Though Britain is a big market  the rest of the European Union collectively is bigger  and therefore the survival of the single market of the 27 is more important to most nations ']\n"
     ]
    }
   ],
   "source": [
    "num_items = len(results['response']['docs'])\n",
    "corpus = []\n",
    "for i in xrange(num_items):\n",
    "    r = requests.get(results['response']['docs'][i]['web_url'])\n",
    "    tree = html.fromstring(r.content)\n",
    "    contents = tree.xpath('//p[@class=\"story-body-text story-content\"]/text()')\n",
    "    article = []\n",
    "    for t in contents: article.append(re.sub(r'[^\\w]', ' ', t))\n",
    "    corpus.append(''.join(article))\n",
    "print corpus"
   ]
  },
  {
   "cell_type": "code",
   "execution_count": 502,
   "metadata": {
    "collapsed": false
   },
   "outputs": [],
   "source": [
    "def get_NYT(start, end):\n",
    "    NYT_ARTICLE = 'deffb8ca21824660b6e431b160550918'\n",
    "    NYT_SEMANTIC = 'deffb8ca21824660b6e431b160550918'\n",
    "    #api = nytimesarticle.search()\n",
    "    api = nytimesarticle.articleAPI(NYT_ARTICLE)\n",
    "    start_dt = pd.to_datetime(start).date()\n",
    "    end_dt = pd.to_datetime(end).date()\n",
    "    num_days = (end_dt - start_dt).days\n",
    "    articles = []\n",
    "    for i in xrange(num_days+1):\n",
    "        dt = start_dt + datetime.timedelta(i)\n",
    "        dt_start = str(dt.year)+str(dt.month).zfill(2)+str(dt.day).zfill(2)\n",
    "        dt_end = str(dt.year)+str(dt.month).zfill(2)+str(dt.day+1).zfill(2)\n",
    "        #print dt_start\n",
    "        #print dt_end\n",
    "        result = api.search(q = 'brexit', fq = {'source':['Reuters','AP', 'The New York Times'],\\\n",
    "                                                  'news_desk':[\"Foreign\",\"Business\",\"Financial\",\"Market Place\",\"World\"],\n",
    "                                                  'document_type':\"article\"}, begin_date = dt_start, end_date = dt_start, \\\n",
    "                              sort= \"newest\", \\\n",
    "                              fl = \"web_url,snippet,lead_paragraph,abstract,source,headline,keywords,pub_date,document_type,news_desk,type_of_material\", \\\n",
    "                              facet_field = \"source,section_name,document_type\")\n",
    "        for r in result:\n",
    "            if r == unicode('response'):\n",
    "                for k in result[r].keys():\n",
    "                    if k == unicode('docs'):\n",
    "                        for doc in result[r][k]:\n",
    "                            articles.append(doc)\n",
    "        #print len(articles)\n",
    "                            \n",
    "    dates = []\n",
    "    corpus = []\n",
    "    print len(articles)\n",
    "    for art in articles:\n",
    "        r = requests.get(art[unicode('web_url')])\n",
    "        #print r\n",
    "        tree = html.fromstring(r.content)\n",
    "        contents = tree.xpath('//p[@class=\"story-body-text story-content\"]/text()')\n",
    "        body = []\n",
    "        for t in contents: \n",
    "            if t.strip <> '': body.append(re.sub(r'[^\\w]', ' ', t))\n",
    "        corpus.append(''.join(body))\n",
    "        dates.append(art[unicode('pub_date')][0:10])\n",
    "    return dates, corpus"
   ]
  },
  {
   "cell_type": "code",
   "execution_count": 498,
   "metadata": {
    "collapsed": false
   },
   "outputs": [],
   "source": [
    "pd_corpus_2 = pd.DataFrame(corpus,index=pd.to_datetime(dts))"
   ]
  },
  {
   "cell_type": "code",
   "execution_count": 475,
   "metadata": {
    "collapsed": false
   },
   "outputs": [],
   "source": [
    "pd_corpus.to_csv('NYTimes_20160623-20161127.csv')"
   ]
  },
  {
   "cell_type": "code",
   "execution_count": null,
   "metadata": {
    "collapsed": true
   },
   "outputs": [],
   "source": [
    "if __name__ == '__main__':\n",
    "\tget_fx(sys.argv[1],sys.argv[2],sys.argv[3])"
   ]
  }
 ],
 "metadata": {
  "kernelspec": {
   "display_name": "Python 2",
   "language": "python",
   "name": "python2"
  },
  "language_info": {
   "codemirror_mode": {
    "name": "ipython",
    "version": 2
   },
   "file_extension": ".py",
   "mimetype": "text/x-python",
   "name": "python",
   "nbconvert_exporter": "python",
   "pygments_lexer": "ipython2",
   "version": "2.7.11"
  }
 },
 "nbformat": 4,
 "nbformat_minor": 0
}
